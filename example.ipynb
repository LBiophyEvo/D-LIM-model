{
 "cells": [
  {
   "cell_type": "code",
   "execution_count": null,
   "metadata": {},
   "outputs": [],
   "source": [
    "from src.model import DLIM\n",
    "from src.utils import Data_model, train\n",
    "from numpy import mean, linspace\n",
    "from numpy.random import choice\n",
    "from sklearn.metrics import r2_score\n",
    "from scipy.stats import pearsonr\n",
    "import matplotlib.pyplot as plt\n",
    "\n",
    "# Here you can change the path into your file's path \n",
    "file_name = \"data/data_epis_1.csv\"\n",
    "# file_name = \"./data/data_env_2.csv\" \n",
    "nb_gene = 2 \n",
    "data = Data_model(file_name, nb_gene)\n",
    "train_id = choice(range(data.data.shape[0]), int(data.data.shape[0]*0.2))\n",
    "model = DLIM(nb_gene, nb_state=37, hid=16, nb_layer=0)\n",
    "\n",
    "train_data = data[train_id, :]\n",
    "val_data = data[[i for i in range(data.data.shape[0]) if i not in train_data], :]\n",
    "\n",
    "losses = train(model, train_data, lr=1e-2, nb_epoch=500, bsize=16, val_data=val_data, wei_dec=1e-2)\n",
    "train_l, val_l = zip(*losses)\n",
    "# plot the training and validation curve \n",
    "plt.plot(train_l)\n",
    "plt.plot(val_l)\n",
    "plt.show()\n",
    "\n",
    "\n",
    "fig, ax = plt.subplots(1, figsize=(2, 2), sharey=True)\n",
    "ax.scatter(var_a.log(), data[:, [-1]], s=3, c=\"grey\")\n",
    "ax.set_xlabel(\"$\\\\hat{\\\\sigma}$\")\n",
    "ax.set_ylabel(\"$F^{obs}$\")\n",
    "for el in [\"top\", \"right\"]:\n",
    "    ax.spines[el].set_visible(False)\n",
    "plt.tight_layout()\n",
    "plt.savefig(\"./img/fit_var_e2.png\", dpi=300, transparent=True)\n",
    "plt.show()"
   ]
  },
  {
   "cell_type": "code",
   "execution_count": null,
   "metadata": {},
   "outputs": [],
   "source": [
    "from src.model import DLIM\n",
    "from src.utils import Data_model, train\n",
    "from numpy import mean, linspace\n",
    "from numpy.random import choice\n",
    "from sklearn.metrics import r2_score\n",
    "from scipy.stats import pearsonr\n",
    "import matplotlib.pyplot as plt"
   ]
  },
  {
   "cell_type": "markdown",
   "metadata": {},
   "source": [
    "# Load data"
   ]
  },
  {
   "cell_type": "code",
   "execution_count": null,
   "metadata": {},
   "outputs": [],
   "source": [
    "file_name = \"data/data_epis_1.csv\"\n",
    "nb_gene = 2 \n",
    "data = Data_model(file_name, nb_gene)"
   ]
  },
  {
   "cell_type": "markdown",
   "metadata": {},
   "source": [
    "# Begin training "
   ]
  },
  {
   "cell_type": "code",
   "execution_count": null,
   "metadata": {},
   "outputs": [],
   "source": [
    "train_id = choice(range(data.data.shape[0]), int(data.data.shape[0]*0.2))\n",
    "model = DLIM(nb_gene, nb_state=37, hid=16, nb_layer=0)\n",
    "train_data = data[train_id, :]\n",
    "val_data = data[[i for i in range(data.data.shape[0]) if i not in train_data], :]\n",
    "\n",
    "losses = train(model, train_data, lr=1e-2, nb_epoch=500, bsize=16, val_data=val_data, wei_dec=1e-2)\n",
    "train_l, val_l = zip(*losses)\n",
    "# plot the training and validation curve \n",
    "plt.plot(train_l)\n",
    "plt.plot(val_l)\n",
    "plt.show()"
   ]
  },
  {
   "cell_type": "markdown",
   "metadata": {},
   "source": [
    "# Results visualization"
   ]
  },
  {
   "cell_type": "code",
   "execution_count": null,
   "metadata": {},
   "outputs": [],
   "source": [
    "\n",
    "fit, var, _ = model(val_data[:, :-1].long(), detach=True)\n",
    "\n",
    "fig, (ax, bx, cx, dx) = plt.subplots(1, 4, figsize=(8, 2))\n",
    "ax.scatter(fit, val_data[:, [-1]].detach(), s=3, c=\"grey\")\n",
    "x = linspace(min(fit), max(fit), num=100)\n",
    "y = linspace(min(fit), max(fit), num=100)\n",
    "ax.plot(x, y, lw=1.5, linestyle=\"--\", c=\"orangered\")\n",
    "ax.set_xlabel(\"$\\\\hat{F}$\")\n",
    "ax.set_ylabel(\"$F^{obs}$\")\n",
    "score = pearsonr(fit.flatten(), val_data[:, [-1]].flatten())[0]\n",
    "ax.text(fit.min(), fit.max(), f\"$\\\\rho={score:.2f}$\")\n",
    "\n",
    "model.plot(bx, data)\n",
    "\n",
    "for el in [\"top\", \"right\"]:\n",
    "    ax.spines[el].set_visible(False)\n",
    "    bx.spines[el].set_visible(False)\n",
    "    cx.spines[el].set_visible(False)\n",
    "    dx.spines[el].set_visible(False)\n",
    "ax.set_aspect(1)\n",
    "\n",
    "fit_a, var_a, lat_a = model(data[:, :-1].long(), detach=True)\n",
    "cx.scatter(lat_a[:, 0], data[:, -1], s=5, c=\"grey\")\n",
    "dx.scatter(lat_a[:, 1], data[:, -1], s=5, c=\"grey\")\n",
    "cx.set_ylabel(\"F\")\n",
    "dx.set_xlabel(\"$Z^1$\")\n",
    "cx.set_xlabel(\"$Z^2$\")\n",
    "plt.tight_layout()\n",
    "# plt.savefig(\"./img/fit_e2.png\", dpi=300, transparent=True)\n",
    "plt.show()\n",
    "\n",
    "\n",
    "fig, ax = plt.subplots(1, figsize=(2, 2), sharey=True)\n",
    "ax.scatter(var_a.log(), data[:, [-1]], s=3, c=\"grey\")\n",
    "ax.set_xlabel(\"$\\\\hat{\\\\sigma}$\")\n",
    "ax.set_ylabel(\"$F^{obs}$\")\n",
    "for el in [\"top\", \"right\"]:\n",
    "    ax.spines[el].set_visible(False)\n",
    "plt.tight_layout()\n",
    "# plt.savefig(\"./img/fit_var_e2.png\", dpi=300, transparent=True)\n",
    "plt.show()"
   ]
  }
 ],
 "metadata": {
  "language_info": {
   "name": "python"
  }
 },
 "nbformat": 4,
 "nbformat_minor": 2
}
