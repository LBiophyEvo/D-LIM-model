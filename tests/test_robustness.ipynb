{
 "cells": [
  {
   "cell_type": "markdown",
   "metadata": {},
   "source": [
    "# Stability test for simulated data \n",
    "1. Loads simulated data \n",
    "2. Trains multiple instances of DLIM with and without spectral regularization.\n",
    "3. Computes embedding similarities across runs.\n",
    "4. Plots of the loss convergence curve \n",
    "5. Plots the cosine similarity distribution of embeddings.\n",
    "6. Boxplot of the Pearson and MSE on D-LIM with and without spectral initialization "
   ]
  },
  {
   "cell_type": "markdown",
   "metadata": {},
   "source": [
    "## Import the packages"
   ]
  },
  {
   "cell_type": "code",
   "execution_count": 1,
   "metadata": {},
   "outputs": [],
   "source": [
    "import sys \n",
    "sys.path.append('../')\n",
    "import os \n",
    "from dlim.model import DLIM \n",
    "from dlim.dataset import Data_model\n",
    "from dlim.api import DLIM_API\n",
    "from src_simulate_data.sim_data import Simulated\n",
    "from scipy.stats import pearsonr, spearmanr\n",
    "from sklearn.metrics import r2_score\n",
    "from numpy import mean\n",
    "from numpy.random import choice\n",
    "import pandas as pd\n",
    "from tqdm import tqdm  \n",
    "import matplotlib.pyplot as plt \n",
    "import numpy as np \n",
    "import random \n",
    "import torch \n",
    "import argparse"
   ]
  },
  {
   "cell_type": "code",
   "execution_count": 2,
   "metadata": {},
   "outputs": [
    {
     "name": "stdout",
     "output_type": "stream",
     "text": [
      "spectral gap = 0.556014358997345\n",
      "spectral gap = 0.45398780703544617\n"
     ]
    },
    {
     "name": "stderr",
     "output_type": "stream",
     "text": [
      "/home/alexandre/miniconda3/envs/dlim_env/lib/python3.11/site-packages/torch/autograd/graph.py:829: UserWarning: CUDA initialization: The NVIDIA driver on your system is too old (found version 10010). Please update your GPU driver by downloading and installing a new version from the URL: http://www.nvidia.com/Download/index.aspx Alternatively, go to: https://pytorch.org to install a PyTorch version that has been compiled with your version of the CUDA driver. (Triggered internally at /pytorch/c10/cuda/CUDAFunctions.cpp:109.)\n",
      "  return Variable._execution_engine.run_backward(  # Calls into the C++ engine to run the backward pass\n"
     ]
    },
    {
     "name": "stdout",
     "output_type": "stream",
     "text": [
      "0.9983892814428929\n",
      "0.7948028423698599\n",
      "spectral gap = 0.556014358997345\n",
      "spectral gap = 0.45398780703544617\n",
      "0.9984450892502885\n",
      "0.7984490824856234\n",
      "spectral gap = 0.556014358997345\n",
      "spectral gap = 0.45398780703544617\n",
      "0.9981936934131778\n",
      "0.7908125736416125\n",
      "spectral gap = 0.556014358997345\n",
      "spectral gap = 0.45398780703544617\n",
      "0.9982508670480983\n",
      "0.7745511629388985\n",
      "spectral gap = 0.556014358997345\n",
      "spectral gap = 0.45398780703544617\n",
      "0.9985136384038992\n",
      "0.7805409805417133\n",
      "spectral gap = 0.556014358997345\n",
      "spectral gap = 0.45398780703544617\n",
      "0.9982381376259809\n",
      "0.775640160585625\n",
      "spectral gap = 0.556014358997345\n",
      "spectral gap = 0.45398780703544617\n",
      "0.9985626618906805\n",
      "0.8023594762569731\n",
      "spectral gap = 0.556014358997345\n",
      "spectral gap = 0.45398780703544617\n",
      "0.9982542954308017\n",
      "0.47987154825287837\n",
      "spectral gap = 0.556014358997345\n",
      "spectral gap = 0.45398780703544617\n",
      "0.998489716631809\n",
      "0.7892000647312145\n",
      "spectral gap = 0.556014358997345\n",
      "spectral gap = 0.45398780703544617\n",
      "0.9983514367055687\n",
      "0.7897563060812834\n"
     ]
    }
   ],
   "source": [
    "#Simulate geometry gaussian data \n",
    "data_flag = 'tgaus'\n",
    "model_save_abs_path = 'pretrained_model/' + str(data_flag) + '/' \n",
    "nb_var = 30\n",
    "data_simulated = Simulated(nb_var, data_flag)\n",
    "\n",
    "# Create Data_model instance for DLIM\n",
    "data = Data_model(data=pd.DataFrame(data_simulated.data), n_variables=2)\n",
    "\n",
    "all_mut_1 = [n for n in data.substitutions_tokens[0].keys() if n != \"WT\"]\n",
    "all_mut_2 = [n for n in data.substitutions_tokens[1].keys() if n != \"WT\"]\n",
    "random.seed(42)\n",
    "\n",
    "# Split data into training and validation \n",
    "train_id = choice(range(data.data.shape[0]), int(data.data.shape[0]*0.7), replace=False)\n",
    "val_id = [i for i in range(data.data.shape[0]) if i not in train_id]\n",
    "train_data = data.subset(train_id)\n",
    "val_data = data.subset(val_id)\n",
    "\n",
    "# Define hyperparameters \n",
    "run_iter = 10\n",
    "max_patience = 20\n",
    "dropout_ratio = 0.3\n",
    "best_loss_arr = []\n",
    "tmp = []\n",
    "tem_latent = []\n",
    "for i in range(run_iter):\n",
    "\n",
    "    torch.manual_seed(42+i)\n",
    "    model = DLIM(n_variables = data.nb_val, hid_dim = 32, nb_layer = 1, gap_thres=[0.01, 0.95], dropout_ratio=dropout_ratio, batch_norm=True)\n",
    "    \n",
    "    # Create DLIM_API instance for training and prediction, using spectral initialization\n",
    "    dlim_regressor = DLIM_API(model=model, flag_spectral=True)\n",
    "    model_save_path = None #model_save_abs_path + str(data_flag) + '_spec' + str(i) + '.pt'\n",
    "    losses, best_model, best_loss = dlim_regressor.fit(train_data, val_data, lr = 1e-3, weight_decay= 1e-2, nb_epoch=300, batch_size=64, \\\n",
    "        emb_regularization=0, save_path=model_save_path, max_patience= max_patience, return_best_model=True)\n",
    "\n",
    "    fit_a, var_a, lat_a = dlim_regressor.predict(val_data.data[:,:-1], detach=True) \n",
    "\n",
    "    score = pearsonr(fit_a.flatten(), val_data.data[:, [-1]].flatten())[0]\n",
    "    print(score)\n",
    "\n",
    "\n",
    "    model_ns = DLIM(n_variables = data.nb_val, hid_dim = 32, nb_layer = 1, gap_thres=[0.01, 0.95], dropout_ratio=dropout_ratio, batch_norm=True)\n",
    "    # Create DLIM_API instance for training and prediction, without spectral initialization\n",
    "    dlim_regressor_ns = DLIM_API(model=model_ns, flag_spectral=False)\n",
    "    model_save_path = None # model_save_abs_path + str(data_flag) + '_no_spec'+ str(i) + '.pt'\n",
    "    losses_ns, best_model_ns, best_loss_ns = dlim_regressor_ns.fit(train_data, val_data, lr = 1e-3, weight_decay= 1e-2,nb_epoch=300, batch_size=64, \\\n",
    "        emb_regularization=0, save_path=model_save_path, max_patience= max_patience, return_best_model=True)\n",
    "\n",
    "    fit_ns, var_ns, lat_ns = dlim_regressor_ns.predict(val_data.data[:,:-1], detach=True) \n",
    "\n",
    "    score_ns = pearsonr(fit_ns.flatten(), val_data.data[:, [-1]].flatten())[0]\n",
    "    print(score_ns)\n",
    "    _, vl = zip(*losses)\n",
    "    _, vl_ns = zip(*losses_ns)\n",
    "    tmp += [(vl, vl_ns)]\n",
    "\n",
    "    # Get loss and scores \n",
    "    best_loss_arr += [(best_loss, best_loss_ns, score, score_ns)]\n",
    "\n",
    "    # Get embeddings \n",
    "    araa_d = [dlim_regressor.model.genes_emb[0][data.substitutions_tokens[0][n]].detach().numpy() for n in all_mut_1]\n",
    "    arab_d = [dlim_regressor.model.genes_emb[1][data.substitutions_tokens[1][n]].detach().numpy() for n in all_mut_2]\n",
    "    res =  (araa_d, arab_d) \n",
    "\n",
    "    tem_latent.append(res)\n",
    "\n",
    "\n"
   ]
  },
  {
   "cell_type": "markdown",
   "metadata": {},
   "source": [
    "## Visualization of the results "
   ]
  },
  {
   "cell_type": "code",
   "execution_count": null,
   "metadata": {},
   "outputs": [
    {
     "data": {
      "image/png": "[encoded data removed]",
      "text/plain": [
       "<Figure size 200x200 with 1 Axes>"
      ]
     },
     "metadata": {},
     "output_type": "display_data"
    },
    {
     "name": "stdout",
     "output_type": "stream",
     "text": [
      "0.0031242622865163367 0.4053214757120953\n"
     ]
    },
    {
     "data": {
      "image/png": "[encoded data removed]",
      "text/plain": [
       "<Figure size 200x200 with 1 Axes>"
      ]
     },
     "metadata": {},
     "output_type": "display_data"
    },
    {
     "name": "stdout",
     "output_type": "stream",
     "text": [
      "0.0031242622865163367 0.4053214757120953\n",
      "0.9983688817843198 0.7575984197885682\n"
     ]
    },
    {
     "name": "stderr",
     "output_type": "stream",
     "text": [
      "/tmp/ipykernel_466253/1995764370.py:42: UserWarning: FigureCanvasAgg is non-interactive, and thus cannot be shown\n",
      "  fig.show()\n",
      "/tmp/ipykernel_466253/1995764370.py:61: UserWarning: FigureCanvasAgg is non-interactive, and thus cannot be shown\n",
      "  fig.show()\n"
     ]
    },
    {
     "data": {
      "image/png": "[encoded data removed]",
      "text/plain": [
       "<Figure size 200x200 with 1 Axes>"
      ]
     },
     "metadata": {},
     "output_type": "display_data"
    },
    {
     "data": {
      "image/png": "[encoded data removed]",
      "text/plain": [
       "<Figure size 200x200 with 1 Axes>"
      ]
     },
     "metadata": {},
     "output_type": "display_data"
    },
    {
     "data": {
      "image/png": "[encoded data removed]",
      "text/plain": [
       "<Figure size 200x200 with 1 Axes>"
      ]
     },
     "metadata": {},
     "output_type": "display_data"
    }
   ],
   "source": [
    "# Plot the MSE loss curve with the training process \n",
    "fig, ax = plt.subplots(figsize=(2, 2))\n",
    "for vl, vl_sn in tmp:\n",
    "    ax.plot(vl, linestyle=\"-\", c=\"orange\", alpha=0.7)\n",
    "    ax.plot(vl_ns, linestyle=\"-\", c=\"grey\", alpha=0.7)\n",
    "for el in [\"top\", \"right\"]:\n",
    "    ax.spines[el].set_visible(False)\n",
    "ax.set_xlabel(\"Epoch\", fontsize=8)\n",
    "ax.set_ylabel(\"Validation MSE\", fontsize=8)\n",
    "plt.tight_layout()\n",
    "plt.show()\n",
    "\n",
    "# Plot the distrubution of MSE after D-LIM training  \n",
    "fig, ax = plt.subplots(figsize=(2, 2))\n",
    "vl_last, vl_ns_last, pears_last, pears_no_last = zip(*[(vl_min, vl_ns_min, pears, pears_no) for vl_min, vl_ns_min, pears, pears_no in best_loss_arr])\n",
    "print(mean(vl_last), mean(vl_ns_last))\n",
    "ax.hist([vl_last, vl_ns_last], color=[\"orange\", \"grey\"])\n",
    "for el in [\"top\", \"right\"]:\n",
    "    ax.spines[el].set_visible(False)\n",
    "ax.set_xlabel(\"Best MSE\", fontsize=8)\n",
    "ax.set_ylabel(\"Frequency\", fontsize=8)\n",
    "plt.tight_layout()\n",
    "plt.show()\n",
    "\n",
    "# Boxplot of MSE after D-LIM training  \n",
    "fig, ax = plt.subplots(figsize=(2, 2))\n",
    "print(mean(vl_last), mean(vl_ns_last))\n",
    "tick_labels=['Spec.', 'No Spec.']\n",
    "bplot = ax.boxplot([vl_last, vl_ns_last], patch_artist=True)\n",
    "ax.set_xticklabels(tick_labels)\n",
    "colors =[\"orange\", \"grey\"]\n",
    "for patch, color in zip(bplot['boxes'], colors):\n",
    "    patch.set_facecolor(color)\n",
    "for patch, color in zip(bplot['medians'], colors):\n",
    "    patch.set_color('black')\n",
    "\n",
    "for el in [\"top\", \"right\"]:\n",
    "    ax.spines[el].set_visible(False)\n",
    "ax.set_xlabel(\"Models\", fontsize=8)\n",
    "ax.set_ylabel(\"Best MSE\", fontsize=8)\n",
    "plt.tight_layout()\n",
    "fig.show()\n",
    "\n",
    "# Boxplot of Pearson after D-LIM training  \n",
    "fig, ax = plt.subplots(figsize=(2, 2))\n",
    "print(mean(pears_last), mean(pears_no_last))\n",
    "tick_labels=['Spec.', 'No Spec.']\n",
    "bplot = ax.boxplot([pears_last, pears_no_last], patch_artist=True)\n",
    "ax.set_xticklabels(tick_labels)\n",
    "colors =[\"orange\", \"grey\"]\n",
    "for patch, color in zip(bplot['boxes'], colors):\n",
    "    patch.set_facecolor(color)\n",
    "for patch, color in zip(bplot['medians'], colors):\n",
    "    patch.set_color('black')\n",
    "\n",
    "for el in [\"top\", \"right\"]:\n",
    "    ax.spines[el].set_visible(False)\n",
    "ax.set_xlabel(\"Models\", fontsize=8)\n",
    "ax.set_ylabel(\"$\\\\rho$\", fontsize=8)\n",
    "plt.tight_layout()\n",
    "fig.show()\n",
    "\n",
    "\n",
    "# Get pairwise similarity between infered phenotype after different runs   \n",
    "\n",
    "def cosine_similarity(a, b):\n",
    "    a = np.array(a).flatten()\n",
    "    b = np.array(b).flatten()\n",
    "    return np.dot(a, b) / (np.linalg.norm(a) * np.linalg.norm(b))\n",
    "\n",
    "# Plot the distribution  of the similarity   \n",
    "dist_l = []\n",
    "for i, (g1i, g2j) in enumerate(tem_latent):\n",
    "    for j, (g1j, g2j) in enumerate(tem_latent[i+1:], start=i+1):\n",
    "        dist_l += [abs(cosine_similarity(g1i, g1j))]\n",
    "fig, ax = plt.subplots(figsize=(2, 2))\n",
    "ax.hist(dist_l)\n",
    "for el in [\"top\", \"right\"]:\n",
    "    ax.spines[el].set_visible(False)\n",
    "ax.set_xlabel(\"$\\\\rho$\", fontsize=8)\n",
    "ax.set_ylabel(\"#N\", fontsize=8)\n",
    "plt.tight_layout()\n",
    "plt.show()\n"
   ]
  },
  {
   "cell_type": "code",
   "execution_count": null,
   "metadata": {},
   "outputs": [],
   "source": []
  }
 ],
 "metadata": {
  "kernelspec": {
   "display_name": "dlim_env",
   "language": "python",
   "name": "python3"
  },
  "language_info": {
   "codemirror_mode": {
    "name": "ipython",
    "version": 3
   },
   "file_extension": ".py",
   "mimetype": "text/x-python",
   "name": "python",
   "nbconvert_exporter": "python",
   "pygments_lexer": "ipython3",
   "version": "3.11.13"
  }
 },
 "nbformat": 4,
 "nbformat_minor": 2
}
