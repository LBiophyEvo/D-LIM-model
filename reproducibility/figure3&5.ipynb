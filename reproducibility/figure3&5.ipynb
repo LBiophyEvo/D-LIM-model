{
 "cells": [
  {
   "cell_type": "markdown",
   "metadata": {},
   "source": [
    "# Application harry's data "
   ]
  },
  {
   "cell_type": "code",
   "execution_count": 1,
   "metadata": {},
   "outputs": [],
   "source": [
    "import sys \n",
    "sys.path.append('../')\n",
    "from dlim.model import DLIM \n",
    "from dlim.dataset import Data_model\n",
    "from dlim.api import DLIM_API\n",
    "from scipy.stats import pearsonr, spearmanr\n",
    "from sklearn.metrics import r2_score\n",
    "from numpy import mean\n",
    "from numpy.random import choice\n",
    "import pandas as pd\n",
    "from tqdm import tqdm  \n",
    "import matplotlib.pyplot as plt \n",
    "import numpy as np "
   ]
  },
  {
   "cell_type": "markdown",
   "metadata": {},
   "source": [
    "# Prediction accuracy on epistasis data "
   ]
  },
  {
   "cell_type": "code",
   "execution_count": 5,
   "metadata": {},
   "outputs": [
    {
     "name": "stderr",
     "output_type": "stream",
     "text": [
      "  0%|          | 0/10 [00:00<?, ?it/s]"
     ]
    },
    {
     "name": "stdout",
     "output_type": "stream",
     "text": [
      "spectral gap = 0.8974717259407043\n",
      "spectral gap = 0.6016693711280823\n"
     ]
    },
    {
     "name": "stderr",
     "output_type": "stream",
     "text": [
      " 10%|█         | 1/10 [00:18<02:46, 18.54s/it]"
     ]
    },
    {
     "name": "stdout",
     "output_type": "stream",
     "text": [
      "spectral gap = 0.8774338364601135\n",
      "spectral gap = 0.602717936038971\n"
     ]
    },
    {
     "name": "stderr",
     "output_type": "stream",
     "text": [
      " 20%|██        | 2/10 [00:37<02:28, 18.54s/it]"
     ]
    },
    {
     "name": "stdout",
     "output_type": "stream",
     "text": [
      "spectral gap = 0.8711336255073547\n",
      "spectral gap = 0.6586899161338806\n"
     ]
    },
    {
     "name": "stderr",
     "output_type": "stream",
     "text": [
      " 30%|███       | 3/10 [00:55<02:09, 18.54s/it]"
     ]
    },
    {
     "name": "stdout",
     "output_type": "stream",
     "text": [
      "spectral gap = 0.9169238209724426\n",
      "spectral gap = 0.5767961144447327\n"
     ]
    },
    {
     "name": "stderr",
     "output_type": "stream",
     "text": [
      " 40%|████      | 4/10 [01:14<01:51, 18.54s/it]"
     ]
    },
    {
     "name": "stdout",
     "output_type": "stream",
     "text": [
      "spectral gap = 0.9071758389472961\n",
      "spectral gap = 0.6521344184875488\n"
     ]
    },
    {
     "name": "stderr",
     "output_type": "stream",
     "text": [
      " 50%|█████     | 5/10 [01:32<01:32, 18.54s/it]"
     ]
    },
    {
     "name": "stdout",
     "output_type": "stream",
     "text": [
      "spectral gap = 0.8960082530975342\n",
      "spectral gap = 0.6448369026184082\n"
     ]
    },
    {
     "name": "stderr",
     "output_type": "stream",
     "text": [
      " 60%|██████    | 6/10 [01:51<01:14, 18.54s/it]"
     ]
    },
    {
     "name": "stdout",
     "output_type": "stream",
     "text": [
      "spectral gap = 0.8801140785217285\n",
      "spectral gap = 0.618034839630127\n"
     ]
    },
    {
     "name": "stderr",
     "output_type": "stream",
     "text": [
      " 70%|███████   | 7/10 [02:09<00:55, 18.55s/it]"
     ]
    },
    {
     "name": "stdout",
     "output_type": "stream",
     "text": [
      "spectral gap = 0.8538110256195068\n",
      "spectral gap = 0.6231471300125122\n"
     ]
    },
    {
     "name": "stderr",
     "output_type": "stream",
     "text": [
      " 80%|████████  | 8/10 [02:28<00:37, 18.54s/it]"
     ]
    },
    {
     "name": "stdout",
     "output_type": "stream",
     "text": [
      "spectral gap = 0.8858620524406433\n",
      "spectral gap = 0.7077808976173401\n"
     ]
    },
    {
     "name": "stderr",
     "output_type": "stream",
     "text": [
      " 90%|█████████ | 9/10 [02:49<00:19, 19.37s/it]"
     ]
    },
    {
     "name": "stdout",
     "output_type": "stream",
     "text": [
      "spectral gap = 0.8910439014434814\n",
      "spectral gap = 0.6325762867927551\n"
     ]
    },
    {
     "name": "stderr",
     "output_type": "stream",
     "text": [
      "100%|██████████| 10/10 [03:12<00:00, 19.21s/it]"
     ]
    },
    {
     "name": "stdout",
     "output_type": "stream",
     "text": [
      "0.9777237988440592 True\n"
     ]
    },
    {
     "name": "stderr",
     "output_type": "stream",
     "text": [
      "\n"
     ]
    }
   ],
   "source": [
    "df_data = pd.read_csv(\"../data/data_epis_1.csv\", sep = ',', header = None)\n",
    "data = Data_model(data=df_data, n_variables=2)\n",
    "\n",
    "all_scores = []\n",
    "pval_l = []\n",
    "for i in tqdm(range(10)):\n",
    "    train_id = choice(range(data.data.shape[0]), int(data.data.shape[0]*0.7), replace=False)\n",
    "    val_id = [i for i in range(data.data.shape[0]) if i not in train_id]\n",
    "    train_data = data.subset(train_id)\n",
    "    val_data = data.subset(val_id)\n",
    "    model = DLIM(n_variables = train_data.nb_val, hid_dim = 32, nb_layer = 1)\n",
    "    dlim_regressor = DLIM_API(model=model, flag_spectral=True)\n",
    "    losses = dlim_regressor.fit(train_data, lr = 1e-3, nb_epoch=400, batch_size=32, emb_regularization=1e-2)\n",
    "\n",
    "    fit_v, var, _  = dlim_regressor.predict(val_data.data[:,:-1], detach=True) \n",
    "    score, pval = pearsonr(fit_v.flatten(), val_data.data[:, [-1]].flatten())\n",
    "    all_scores += [score]\n",
    "    pval_l += [pval]\n",
    "print(mean(all_scores), all(p < 10**-5 for p in pval_l))"
   ]
  },
  {
   "cell_type": "markdown",
   "metadata": {},
   "source": [
    "# Comparison of spectralization"
   ]
  },
  {
   "cell_type": "code",
   "execution_count": 10,
   "metadata": {},
   "outputs": [
    {
     "name": "stderr",
     "output_type": "stream",
     "text": [
      "  0%|          | 0/10 [00:00<?, ?it/s]"
     ]
    },
    {
     "name": "stdout",
     "output_type": "stream",
     "text": [
      "spectral gap = 0.9206011295318604\n",
      "spectral gap = 0.8413972854614258\n"
     ]
    },
    {
     "name": "stderr",
     "output_type": "stream",
     "text": [
      " 10%|█         | 1/10 [00:47<07:08, 47.57s/it]"
     ]
    },
    {
     "name": "stdout",
     "output_type": "stream",
     "text": [
      "spectral gap = 0.9194398522377014\n",
      "spectral gap = 0.8851001858711243\n"
     ]
    },
    {
     "name": "stderr",
     "output_type": "stream",
     "text": [
      " 20%|██        | 2/10 [01:34<06:19, 47.41s/it]"
     ]
    },
    {
     "name": "stdout",
     "output_type": "stream",
     "text": [
      "spectral gap = 0.9290698170661926\n",
      "spectral gap = 0.8614715933799744\n"
     ]
    },
    {
     "name": "stderr",
     "output_type": "stream",
     "text": [
      " 30%|███       | 3/10 [02:22<05:31, 47.37s/it]"
     ]
    },
    {
     "name": "stdout",
     "output_type": "stream",
     "text": [
      "spectral gap = 0.9085410833358765\n",
      "spectral gap = 0.8754006624221802\n"
     ]
    },
    {
     "name": "stderr",
     "output_type": "stream",
     "text": [
      " 40%|████      | 4/10 [03:09<04:44, 47.39s/it]"
     ]
    },
    {
     "name": "stdout",
     "output_type": "stream",
     "text": [
      "spectral gap = 0.9223102331161499\n",
      "spectral gap = 0.8430267572402954\n"
     ]
    },
    {
     "name": "stderr",
     "output_type": "stream",
     "text": [
      " 50%|█████     | 5/10 [03:56<03:56, 47.36s/it]"
     ]
    },
    {
     "name": "stdout",
     "output_type": "stream",
     "text": [
      "spectral gap = 0.8966194987297058\n",
      "spectral gap = 0.8753058314323425\n"
     ]
    },
    {
     "name": "stderr",
     "output_type": "stream",
     "text": [
      " 60%|██████    | 6/10 [04:44<03:09, 47.41s/it]"
     ]
    },
    {
     "name": "stdout",
     "output_type": "stream",
     "text": [
      "spectral gap = 0.9291406273841858\n",
      "spectral gap = 0.8519911170005798\n"
     ]
    },
    {
     "name": "stderr",
     "output_type": "stream",
     "text": [
      " 70%|███████   | 7/10 [05:32<02:22, 47.51s/it]"
     ]
    },
    {
     "name": "stdout",
     "output_type": "stream",
     "text": [
      "spectral gap = 0.8949744701385498\n",
      "spectral gap = 0.8915839791297913\n"
     ]
    },
    {
     "name": "stderr",
     "output_type": "stream",
     "text": [
      " 80%|████████  | 8/10 [06:19<01:34, 47.49s/it]"
     ]
    },
    {
     "name": "stdout",
     "output_type": "stream",
     "text": [
      "spectral gap = 0.9401325583457947\n",
      "spectral gap = 0.8751896619796753\n"
     ]
    },
    {
     "name": "stderr",
     "output_type": "stream",
     "text": [
      " 90%|█████████ | 9/10 [07:07<00:47, 47.56s/it]"
     ]
    },
    {
     "name": "stdout",
     "output_type": "stream",
     "text": [
      "spectral gap = 0.9201934933662415\n",
      "spectral gap = 0.8959382772445679\n"
     ]
    },
    {
     "name": "stderr",
     "output_type": "stream",
     "text": [
      "100%|██████████| 10/10 [07:54<00:00, 47.46s/it]"
     ]
    },
    {
     "name": "stdout",
     "output_type": "stream",
     "text": [
      "0.9861961577244764 True\n",
      "0.9850369708744097 True\n"
     ]
    },
    {
     "name": "stderr",
     "output_type": "stream",
     "text": [
      "\n"
     ]
    }
   ],
   "source": [
    "df_data = pd.read_csv(\"../data/data_env_1.csv\", sep = ',', header = None)\n",
    "data = Data_model(data=df_data, n_variables=2)\n",
    "\n",
    "all_scores = []\n",
    "all_scores_no = []\n",
    "pval_l = []\n",
    "for i in tqdm(range(10)):\n",
    "    train_id = choice(range(data.data.shape[0]), int(data.data.shape[0]*0.7), replace=False)\n",
    "    val_id = [i for i in range(data.data.shape[0]) if i not in train_id]\n",
    "    train_data = data.subset(train_id)\n",
    "    val_data = data.subset(val_id)\n",
    "    model = DLIM(n_variables = train_data.nb_val, hid_dim = 32, nb_layer = 1)\n",
    "    dlim_regressor = DLIM_API(model=model, flag_spectral=True)\n",
    "    losses = dlim_regressor.fit(train_data, lr = 1e-3, nb_epoch=400, batch_size=32, emb_regularization=1e-2)\n",
    "\n",
    "\n",
    "    model_no = DLIM(n_variables = train_data.nb_val, hid_dim = 32, nb_layer = 1)\n",
    "    dlim_regressor_no = DLIM_API(model=model_no, flag_spectral=False)\n",
    "    losses = dlim_regressor_no.fit(train_data, lr = 1e-3, nb_epoch=400, batch_size=32, emb_regularization=1e-2)\n",
    "\n",
    "    fit_v, var, _  = dlim_regressor.predict(val_data.data[:,:-1], detach=True) \n",
    "    score, pval = pearsonr(fit_v.flatten(), val_data.data[:, [-1]].flatten())\n",
    "\n",
    "    fit_no, var, _  = dlim_regressor_no.predict(val_data.data[:,:-1], detach=True) \n",
    "    score_no, pval = pearsonr(fit_no.flatten(), val_data.data[:, [-1]].flatten())\n",
    "    all_scores += [score]\n",
    "    all_scores_no += [score_no]\n",
    "    pval_l += [pval]\n",
    "print(mean(all_scores), all(p < 10**-5 for p in pval_l))\n",
    "print(mean(all_scores_no), all(p < 10**-5 for p in pval_l))"
   ]
  },
  {
   "cell_type": "markdown",
   "metadata": {},
   "source": [
    "# Get full prediction accuracy on en1"
   ]
  },
  {
   "cell_type": "code",
   "execution_count": 6,
   "metadata": {},
   "outputs": [
    {
     "name": "stdout",
     "output_type": "stream",
     "text": [
      "spectral gap = 0.9191145896911621\n",
      "spectral gap = 0.6179166436195374\n",
      "Model saved to ./pretrain_models/model_env_1.pth\n",
      "0.987037033977875\n",
      "PearsonRResult(statistic=0.011513504296880653, pvalue=0.6731195957402307)\n"
     ]
    },
    {
     "data": {
      "image/png": "[encoded data removed]",
      "text/plain": [
       "<Figure size 600x200 with 3 Axes>"
      ]
     },
     "metadata": {},
     "output_type": "display_data"
    }
   ],
   "source": [
    "df_data = pd.read_csv(\"../data/data_env_1.csv\", sep = ',', header = None)\n",
    "save_path = \"./pretrain_models/model_env_1.pth\" \n",
    "\n",
    "\n",
    "data = Data_model(data=df_data, n_variables=2)\n",
    "\n",
    "model = DLIM(n_variables = data.nb_val, hid_dim = 32, nb_layer = 0, gap_thres=[0.01, 0.95])\n",
    "dlim_regressor = DLIM_API(model=model, flag_spectral=True)\n",
    "losses = dlim_regressor.fit(data, lr = 1e-3, nb_epoch=400, batch_size=32, emb_regularization=1e-2, save_path=save_path)\n",
    "\n",
    "fit_a, var_a, lat_a = dlim_regressor.predict(data.data[:,:-1], detach=True) \n",
    "\n",
    "score = r2_score(fit_a.flatten(), data.data[:, [-1]].flatten())\n",
    "print(score)\n",
    "\n",
    "fig, (bx, cx, dx) = plt.subplots(1, 3, figsize=(6, 2))\n",
    "dlim_regressor.plot(bx, data)\n",
    "\n",
    "for xx in [bx, cx, dx]:\n",
    "    for el in [\"top\", \"right\"]:\n",
    "        xx.spines[el].set_visible(False)\n",
    "\n",
    "# Plot the a00verage curve\n",
    "print(pearsonr(lat_a[:, 0], data[:, -1]))\n",
    "cx.scatter(lat_a[:, 0], data[:, -1], s=5, c=\"grey\")\n",
    "dx.scatter(lat_a[:, 1], data[:, -1], s=5, c=\"grey\")\n",
    "cx.set_ylabel(\"F\")\n",
    "cx.set_xlabel(\"$\\\\varphi^A$\", fontsize = 12)\n",
    "dx.set_xlabel(\"$\\\\varphi^B$\", fontsize = 12)\n",
    "plt.tight_layout()\n",
    "plt.savefig(\"./img/spec_harry_env_1.png\", dpi=300, transparent=True)\n",
    "plt.show()"
   ]
  },
  {
   "cell_type": "markdown",
   "metadata": {},
   "source": [
    "# Get full prediction on env2\n"
   ]
  },
  {
   "cell_type": "code",
   "execution_count": 7,
   "metadata": {},
   "outputs": [
    {
     "name": "stdout",
     "output_type": "stream",
     "text": [
      "spectral gap = 0.8362952470779419\n",
      "spectral gap = 0.996818482875824, so we initialize phenotypes randomly\n",
      "Model saved to ./pretrain_models/model_env_2.pth\n",
      "0.9879316558996767\n",
      "PearsonRResult(statistic=0.224114063625784, pvalue=4.922190063344209e-17)\n"
     ]
    },
    {
     "data": {
      "image/png": "[encoded data removed]",
      "text/plain": [
       "<Figure size 600x200 with 3 Axes>"
      ]
     },
     "metadata": {},
     "output_type": "display_data"
    }
   ],
   "source": [
    "df_data = pd.read_csv(\"../data/data_env_2.csv\", sep = ',', header = None)\n",
    "save_path = \"./pretrain_models/model_env_2.pth\" \n",
    "\n",
    "data = Data_model(data=df_data, n_variables=2)\n",
    "\n",
    "model = DLIM(n_variables = data.nb_val, hid_dim = 32, nb_layer = 0, gap_thres=[0.01, 0.95])\n",
    "dlim_regressor = DLIM_API(model=model, flag_spectral=True)\n",
    "losses = dlim_regressor.fit(data, lr = 1e-3, nb_epoch=400, batch_size=32, emb_regularization=1e-2, save_path=save_path)\n",
    "\n",
    "fit_a, var_a, lat_a = dlim_regressor.predict(data.data[:,:-1], detach=True) \n",
    "\n",
    "score = r2_score(fit_a.flatten(), data.data[:, [-1]].flatten())\n",
    "print(score)\n",
    "\n",
    "fig, (bx, cx, dx) = plt.subplots(1, 3, figsize=(6, 2))\n",
    "dlim_regressor.plot(bx, data)\n",
    "\n",
    "for xx in [bx, cx, dx]:\n",
    "    for el in [\"top\", \"right\"]:\n",
    "        xx.spines[el].set_visible(False)\n",
    "\n",
    "# Plot the a00verage curve\n",
    "print(pearsonr(lat_a[:, 0], data[:, -1]))\n",
    "cx.scatter(lat_a[:, 0], data[:, -1], s=5, c=\"grey\")\n",
    "dx.scatter(lat_a[:, 1], data[:, -1], s=5, c=\"grey\")\n",
    "cx.set_ylabel(\"F\")\n",
    "cx.set_xlabel(\"$\\\\varphi^A$\", fontsize = 12)\n",
    "dx.set_xlabel(\"$\\\\varphi^B$\", fontsize = 12)\n",
    "plt.tight_layout()\n",
    "plt.savefig(\"./img/spec_harry_env_2.png\", dpi=300, transparent=True)\n",
    "plt.show()"
   ]
  },
  {
   "cell_type": "markdown",
   "metadata": {},
   "source": [
    "# Get full prediction accuracy on epistasis"
   ]
  },
  {
   "cell_type": "code",
   "execution_count": 2,
   "metadata": {},
   "outputs": [
    {
     "name": "stdout",
     "output_type": "stream",
     "text": [
      "spectral gap = 0.8422809839248657\n",
      "spectral gap = 0.5362866520881653\n",
      "Model saved to ./pretrain_models/model_epis_1.pth\n",
      "0.9594007588135274\n",
      "PearsonRResult(statistic=-0.13754459236872413, pvalue=1.3778999293159355e-06)\n"
     ]
    },
    {
     "data": {
      "image/png": "[encoded data removed]",
      "text/plain": [
       "<Figure size 600x200 with 3 Axes>"
      ]
     },
     "metadata": {},
     "output_type": "display_data"
    }
   ],
   "source": [
    "df_data = pd.read_csv(\"../data/data_epis_1.csv\", sep = ',', header = None)\n",
    "data = Data_model(data=df_data, n_variables=2)\n",
    "save_path = \"./pretrain_models/model_epis_1.pth\" \n",
    "\n",
    "\n",
    "data = Data_model(data=df_data, n_variables=2)\n",
    "\n",
    "model = DLIM(n_variables = data.nb_val, hid_dim = 32, nb_layer = 0, gap_thres=[0.01, 0.95])\n",
    "dlim_regressor = DLIM_API(model=model, flag_spectral=True)\n",
    "losses = dlim_regressor.fit(data, lr = 1e-3, nb_epoch=400, batch_size=32, emb_regularization=1e-2, save_path=save_path)\n",
    "\n",
    "fit_a, var_a, lat_a = dlim_regressor.predict(data.data[:,:-1], detach=True) \n",
    "\n",
    "score = r2_score(fit_a.flatten(), data.data[:, [-1]].flatten())\n",
    "print(score)\n",
    "\n",
    "fig, (bx, cx, dx) = plt.subplots(1, 3, figsize=(6, 2))\n",
    "dlim_regressor.plot(bx, data)\n",
    "\n",
    "for xx in [bx, cx, dx]:\n",
    "    for el in [\"top\", \"right\"]:\n",
    "        xx.spines[el].set_visible(False)\n",
    "\n",
    "# Plot the a00verage curve\n",
    "print(pearsonr(lat_a[:, 0], data[:, -1]))\n",
    "cx.scatter(lat_a[:, 0], data[:, -1], s=5, c=\"grey\")\n",
    "dx.scatter(lat_a[:, 1], data[:, -1], s=5, c=\"grey\")\n",
    "cx.set_ylabel(\"F\")\n",
    "cx.set_xlabel(\"$\\\\varphi^A$\", fontsize = 12)\n",
    "dx.set_xlabel(\"$\\\\varphi^B$\", fontsize = 12)\n",
    "plt.tight_layout()\n",
    "plt.savefig(\"./img/spec_harry_epis_1.png\", dpi=300, transparent=True)\n",
    "plt.show()"
   ]
  },
  {
   "cell_type": "markdown",
   "metadata": {},
   "source": [
    "# Compare dlim model to mechanistic model "
   ]
  },
  {
   "cell_type": "code",
   "execution_count": 6,
   "metadata": {},
   "outputs": [],
   "source": [
    "import torch \n",
    "df_data = pd.read_csv(\"../data/data_env_1.csv\", sep = ',', header = None)\n",
    "data_harry = Data_model(data=df_data, n_variables=2)\n",
    "act_mut = pd.read_csv(\"../data/activity_mutation.csv\", header=None)\n",
    "act_dict = {\"araA\": {}, \"araB\": {}}\n",
    "for i, el in act_mut.iterrows():\n",
    "    gene, mut, act = el\n",
    "    act_dict[gene][mut] = act\n",
    "all_mut = [n for n in data_harry.substitutions_tokens[0].keys() if n != \"WT\"]\n",
    "araa_m = [act_dict[\"araA\"][n] for n in all_mut]\n",
    "arab_m = [act_dict[\"araB\"][n] for n in all_mut]\n",
    "\n",
    "# load model \n",
    "model = DLIM(n_variables = data_harry.nb_val, hid_dim = 32, nb_layer = 0)\n",
    "dlim_regressor = DLIM_API(model=model, flag_spectral=True, load_model='./pretrain_models/model_env_1.pth')\n",
    "\n"
   ]
  },
  {
   "cell_type": "markdown",
   "metadata": {},
   "source": [
    "### Get simulated data"
   ]
  },
  {
   "cell_type": "code",
   "execution_count": 7,
   "metadata": {},
   "outputs": [],
   "source": [
    "from src_simulate_data.sim_data import Simulated\n",
    "# type_f = \"tgaus\"\n",
    "type_f = \"bio\" \n",
    "nb_var = 30\n",
    "data_sim = Simulated(nb_var, type_f, comp=False)\n",
    "data_bio = Data_model(data=pd.DataFrame(data_sim.data), n_variables=2)\n",
    "model_save_path = 'pretrain/simulate_' + str(type_f) + '_model.pt'"
   ]
  },
  {
   "cell_type": "code",
   "execution_count": 8,
   "metadata": {},
   "outputs": [
    {
     "data": {
      "image/png": "[encoded data removed]",
      "text/plain": [
       "<Figure size 500x250 with 2 Axes>"
      ]
     },
     "metadata": {},
     "output_type": "display_data"
    }
   ],
   "source": [
    "fig, (ax, bx) = plt.subplots(1, 2, figsize=(2.5*2, 2.5))\n",
    "data_sim.plot(ax, fontsize=15)\n",
    "dlim_regressor.plot(bx, fontsize=15)\n",
    "plt.tight_layout()\n",
    "plt.savefig(\"./img/fig_4.png\", dpi=300, transparent=True)\n",
    "plt.show()"
   ]
  },
  {
   "cell_type": "code",
   "execution_count": 9,
   "metadata": {},
   "outputs": [
    {
     "data": {
      "image/png": "[encoded data removed]",
      "text/plain": [
       "<Figure size 250x250 with 1 Axes>"
      ]
     },
     "metadata": {},
     "output_type": "display_data"
    }
   ],
   "source": [
    "araa_d = [dlim_regressor.model.genes_emb[0][data_harry.substitutions_tokens[0][n]].detach().numpy() for n in all_mut]\n",
    "arab_d = [dlim_regressor.model.genes_emb[1][data_harry.substitutions_tokens[1][n]].detach().numpy() for n in all_mut]\n",
    "fig, bx = plt.subplots(ncols=1, figsize=(2.5, 2.5))\n",
    "score_A = spearmanr(araa_m, araa_d)[0]\n",
    "score_B = spearmanr(arab_m, arab_d)[0]\n",
    "bx.set_xlabel(\"Mech $\\\\varphi_1$ | $\\\\varphi_2$\", fontsize=12)\n",
    "bx.set_ylabel(\"D-LIM (spec) $\\\\varphi_1$ | $\\\\varphi_2$\", fontsize=12)\n",
    "bx.annotate(f\"$\\\\rho_s={abs(score_A):.1f}$\", xy=(0.3, 0.93), xycoords=\"axes fraction\", fontsize=12, c=\"C0\")\n",
    "bx.annotate(f\"$\\\\rho_s={abs(score_B):.1f}$\", xy=(0.3, 0.8), xycoords=\"axes fraction\", fontsize=12, c=\"C1\")\n",
    "bx.scatter(np.sign(score_A)*np.array(araa_m), araa_d, c=\"C0\", s=5)\n",
    "bx.scatter(np.sign(score_B)*np.array(arab_m), arab_d, c=\"C1\", s=5)\n",
    "for el in [\"top\", \"right\"]:\n",
    "    bx.spines[el].set_visible(False)\n",
    "plt.tight_layout()"
   ]
  },
  {
   "cell_type": "code",
   "execution_count": null,
   "metadata": {},
   "outputs": [],
   "source": []
  }
 ],
 "metadata": {
  "kernelspec": {
   "display_name": "drug",
   "language": "python",
   "name": "python3"
  },
  "language_info": {
   "codemirror_mode": {
    "name": "ipython",
    "version": 3
   },
   "file_extension": ".py",
   "mimetype": "text/x-python",
   "name": "python",
   "nbconvert_exporter": "python",
   "pygments_lexer": "ipython3",
   "version": "3.9.16"
  }
 },
 "nbformat": 4,
 "nbformat_minor": 2
}
