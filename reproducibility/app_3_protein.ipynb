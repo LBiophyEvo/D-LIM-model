{
 "cells": [
  {
   "cell_type": "code",
   "execution_count": 1,
   "metadata": {},
   "outputs": [],
   "source": [
    "import sys \n",
    "sys.path.append('../')\n",
    "from dlim.model import DLIM \n",
    "from dlim.dataset import Data_model\n",
    "from dlim.api import DLIM_API\n",
    "from scipy.stats import pearsonr, spearmanr\n",
    "from sklearn.metrics import r2_score\n",
    "from numpy import mean\n",
    "from numpy.random import choice\n",
    "import pandas as pd\n",
    "from tqdm import tqdm  \n",
    "import matplotlib.pyplot as plt \n",
    "import numpy as np "
   ]
  },
  {
   "cell_type": "code",
   "execution_count": 3,
   "metadata": {},
   "outputs": [
    {
     "name": "stderr",
     "output_type": "stream",
     "text": [
      "/home/swang/miniconda3/envs/drug/lib/python3.9/site-packages/openpyxl/worksheet/_reader.py:329: UserWarning: Unknown extension is not supported and will be removed\n",
      "  warn(msg)\n",
      "/home/swang/miniconda3/envs/drug/lib/python3.9/site-packages/openpyxl/worksheet/_reader.py:329: UserWarning: Unknown extension is not supported and will be removed\n",
      "  warn(msg)\n"
     ]
    }
   ],
   "source": [
    "df_1 = pd.read_excel(\"../data/protein_inter/GSE102901_TableS1.xlsx\", sheet_name=None)\n",
    "# df_2 = pd.read_excel(\"./data/protein_inter/GSE102901_TableS4.xlsx\", sheet_name=None)\n",
    "\n",
    "tmp = df_1[\"Sheet2\"]\n",
    "df_id1 = tmp.drop_duplicates(subset=[\"id1\"])[[\"id1\", \"s1_mean\"]]\n",
    "df_id2 = tmp.drop_duplicates(subset=[\"id2\"])[[\"id2\", \"s2_mean\"]]\n"
   ]
  },
  {
   "cell_type": "code",
   "execution_count": 6,
   "metadata": {},
   "outputs": [],
   "source": [
    "infile = \"../data/protein_inter/tables1.csv\"\n",
    "df_data = pd.read_csv(infile, sep = ',', header = None)\n",
    "data = Data_model(data=df_data, n_variables=2)\n",
    "model_save_path = \"./pretrain_models/model_protein_int.pth\"\n",
    "\n",
    "train_id = choice(range(data.data.shape[0]), int(data.data.shape[0]*0.7), replace=False)\n",
    "val_id = [i for i in range(data.data.shape[0]) if i not in train_id]\n",
    "train_data = data.subset(train_id)\n",
    "val_data = data.subset(val_id)\n"
   ]
  },
  {
   "cell_type": "code",
   "execution_count": 7,
   "metadata": {},
   "outputs": [
    {
     "name": "stdout",
     "output_type": "stream",
     "text": [
      "spectral gap = 0.9706485271453857, so we initialize phenotypes randomly\n",
      "spectral gap = 0.9662427306175232, so we initialize phenotypes randomly\n",
      "Model saved to ./pretrain_models/model_protein_int.pth\n"
     ]
    },
    {
     "data": {
      "image/png": "[encoded data removed]",
      "text/plain": [
       "<Figure size 640x480 with 1 Axes>"
      ]
     },
     "metadata": {},
     "output_type": "display_data"
    }
   ],
   "source": [
    "model = DLIM(n_variables = train_data.nb_val, hid_dim = 64, nb_layer = 1)\n",
    "dlim_regressor = DLIM_API(model=model, flag_spectral=True)\n",
    "losses = dlim_regressor.fit(train_data, lr = 1e-3, nb_epoch=100, batch_size=256, emb_regularization=1e-2, save_path=model_save_path)\n",
    "\n",
    "plt.plot(losses)\n",
    "plt.show()\n"
   ]
  },
  {
   "cell_type": "code",
   "execution_count": null,
   "metadata": {},
   "outputs": [],
   "source": [
    "fit_v, var, _  = dlim_regressor.predict(val_data.data[:,:-1], detach=True) \n",
    "fig, (bx, cx) = plt.subplots(2, 1, figsize=(2.3, 4))\n",
    "score = pearsonr(fit_v.flatten(), val_data[:, [-1]].flatten())[0]\n",
    "\n",
    "fit, var, lat = model(data[:, :-1].int(), detach=True)\n",
    "model.plot(bx, data=data, fontsize=12)\n",
    "\n",
    "for el in [\"top\", \"right\"]:\n",
    "    # ax.spines[el].set_visible(False)\n",
    "    bx.spines[el].set_visible(False)\n",
    "    cx.spines[el].set_visible(False)\n",
    "\n",
    "# df = pd.read_excel(\"./data/protein_inter/GSE102901_TableS1.xlsx\", sheet_name=None)\n",
    "# df_id1 = df[\"Sheet2\"].drop_duplicates(subset=[\"id1\"])[[\"id1\", \"s1_mean\"]]\n",
    "# df_id2 = df[\"Sheet2\"].drop_duplicates(subset=[\"id2\"])[[\"id2\", \"s2_mean\"]]\n",
    "\n",
    "df_id1[\"s1_mean\"][np.isnan(df_id1[\"s1_mean\"])] = 0\n",
    "x = [model.genes[0][data.mut_to_index[0][n]].item() for n in df_id1[\"id1\"]]\n",
    "y = [model.genes[1][data.mut_to_index[1][n]].item() for n in df_id2[\"id2\"]]\n",
    "cx.scatter(x, df_id1[\"s1_mean\"], label=\"$\\\\varphi_1$\", s=2)\n",
    "cx.scatter(y, df_id2[\"s2_mean\"], label=\"$\\\\varphi_2$\", s=2)\n",
    "pearsonr(y, df_id2[\"s2_mean\"])\n",
    "pearsonr(x, df_id1[\"s1_mean\"])\n",
    "\n",
    "cx.set_xlabel(\"$\\\\varphi$\", fontsize=12)\n",
    "cx.set_ylabel(\"PPI\", fontsize=12)\n",
    "cx.set_ylim([0.4, 1.1])\n",
    "\n",
    "plt.tight_layout()\n",
    "# plt.savefig(\"./img/lenher_2.png\", dpi=300, transparent=True)\n",
    "plt.show()\n",
    "\n",
    "\n",
    "fig, (ax, bx) = plt.subplots(1, 2, figsize=(4, 2))\n",
    "x = np.linspace(min(fit_v), max(fit_v), num=100)\n",
    "y = np.linspace(min(fit_v), max(fit_v), num=100)\n",
    "ax.scatter(fit_v, val_data[:, [-1]].detach(), s=3, c=\"grey\")\n",
    "ax.plot(x, y, lw=1.5, linestyle=\"--\", c=\"orangered\")\n",
    "ax.set_xlabel(\"$\\\\hat{F}$\")\n",
    "ax.set_ylabel(\"$F^{obs}$\")\n",
    "score, pval = pearsonr(fit_v.flatten(), val_data[:, [-1]].flatten())\n",
    "ax.text(fit_v.min(), fit_v.max(), f\"$\\\\rho={score:.2f}$\")\n",
    "\n",
    "model.plot(bx, data=data, fontsize=12)\n",
    "\n",
    "for el in [\"top\", \"right\"]:\n",
    "    ax.spines[el].set_visible(False)\n",
    "    bx.spines[el].set_visible(False)\n",
    "    cx.spines[el].set_visible(False)\n",
    "\n",
    "plt.tight_layout()\n",
    "# plt.savefig(\"./img/lenher_2_fit.png\", dpi=300, transparent=True)\n",
    "plt.show()"
   ]
  }
 ],
 "metadata": {
  "kernelspec": {
   "display_name": "drug",
   "language": "python",
   "name": "python3"
  },
  "language_info": {
   "codemirror_mode": {
    "name": "ipython",
    "version": 3
   },
   "file_extension": ".py",
   "mimetype": "text/x-python",
   "name": "python",
   "nbconvert_exporter": "python",
   "pygments_lexer": "ipython3",
   "version": "3.9.16"
  }
 },
 "nbformat": 4,
 "nbformat_minor": 2
}
