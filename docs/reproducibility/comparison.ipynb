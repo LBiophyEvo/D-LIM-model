{
 "cells": [
  {
   "cell_type": "code",
   "execution_count": 1,
   "metadata": {},
   "outputs": [],
   "source": [
    "import sys \n",
    "sys.path.append('../')\n",
    "from dlim.model import DLIM \n",
    "from dlim.dataset import Data_model\n",
    "from dlim.api import DLIM_API\n",
    "from scipy.stats import pearsonr, spearmanr\n",
    "from sklearn.metrics import r2_score\n",
    "from numpy import mean\n",
    "from numpy.random import choice\n",
    "import pandas as pd\n",
    "from tqdm import tqdm  \n",
    "import matplotlib.pyplot as plt \n",
    "import numpy as np "
   ]
  },
  {
   "cell_type": "code",
   "execution_count": 2,
   "metadata": {},
   "outputs": [
    {
     "name": "stderr",
     "output_type": "stream",
     "text": [
      "  0%|          | 0/10 [00:00<?, ?it/s]"
     ]
    },
    {
     "name": "stdout",
     "output_type": "stream",
     "text": [
      "spectral gap = 0.8882160186767578\n",
      "spectral gap = 0.6380813121795654\n"
     ]
    },
    {
     "name": "stderr",
     "output_type": "stream",
     "text": [
      " 10%|█         | 1/10 [00:42<06:21, 42.44s/it]"
     ]
    },
    {
     "name": "stdout",
     "output_type": "stream",
     "text": [
      "spectral gap = 0.8744031190872192\n",
      "spectral gap = 0.6912084221839905\n"
     ]
    },
    {
     "name": "stderr",
     "output_type": "stream",
     "text": [
      " 20%|██        | 2/10 [01:25<05:40, 42.54s/it]"
     ]
    },
    {
     "name": "stdout",
     "output_type": "stream",
     "text": [
      "spectral gap = 0.8860058188438416\n",
      "spectral gap = 0.6585600972175598\n"
     ]
    },
    {
     "name": "stderr",
     "output_type": "stream",
     "text": [
      " 30%|███       | 3/10 [02:07<04:58, 42.61s/it]"
     ]
    },
    {
     "name": "stdout",
     "output_type": "stream",
     "text": [
      "spectral gap = 0.8563929200172424\n",
      "spectral gap = 0.563763439655304\n"
     ]
    },
    {
     "name": "stderr",
     "output_type": "stream",
     "text": [
      " 40%|████      | 4/10 [02:50<04:14, 42.47s/it]"
     ]
    },
    {
     "name": "stdout",
     "output_type": "stream",
     "text": [
      "spectral gap = 0.9096401333808899\n",
      "spectral gap = 0.6858377456665039\n"
     ]
    },
    {
     "name": "stderr",
     "output_type": "stream",
     "text": [
      " 50%|█████     | 5/10 [03:32<03:32, 42.45s/it]"
     ]
    },
    {
     "name": "stdout",
     "output_type": "stream",
     "text": [
      "spectral gap = 0.9162383675575256\n",
      "spectral gap = 0.5928269028663635\n"
     ]
    },
    {
     "name": "stderr",
     "output_type": "stream",
     "text": [
      " 60%|██████    | 6/10 [04:14<02:49, 42.32s/it]"
     ]
    },
    {
     "name": "stdout",
     "output_type": "stream",
     "text": [
      "spectral gap = 0.9214624166488647\n",
      "spectral gap = 0.6786171793937683\n"
     ]
    },
    {
     "name": "stderr",
     "output_type": "stream",
     "text": [
      " 70%|███████   | 7/10 [04:56<02:06, 42.22s/it]"
     ]
    },
    {
     "name": "stdout",
     "output_type": "stream",
     "text": [
      "spectral gap = 0.8856610655784607\n",
      "spectral gap = 0.6145884394645691\n"
     ]
    },
    {
     "name": "stderr",
     "output_type": "stream",
     "text": [
      " 80%|████████  | 8/10 [05:36<01:22, 41.42s/it]"
     ]
    },
    {
     "name": "stdout",
     "output_type": "stream",
     "text": [
      "spectral gap = 0.9083172082901001\n",
      "spectral gap = 0.6596746444702148\n"
     ]
    },
    {
     "name": "stderr",
     "output_type": "stream",
     "text": [
      " 90%|█████████ | 9/10 [06:12<00:39, 39.70s/it]"
     ]
    },
    {
     "name": "stdout",
     "output_type": "stream",
     "text": [
      "spectral gap = 0.8730735778808594\n",
      "spectral gap = 0.6776626110076904\n"
     ]
    },
    {
     "name": "stderr",
     "output_type": "stream",
     "text": [
      "100%|██████████| 10/10 [06:48<00:00, 40.80s/it]"
     ]
    },
    {
     "name": "stdout",
     "output_type": "stream",
     "text": [
      "0.9772620317514237 True\n",
      "0.9707883365728966 True\n"
     ]
    },
    {
     "name": "stderr",
     "output_type": "stream",
     "text": [
      "\n"
     ]
    }
   ],
   "source": [
    "df_data = pd.read_csv(\"../data/data_epis_1.csv\", sep = ',', header = None)\n",
    "data = Data_model(data=df_data, n_variables=2)\n",
    "\n",
    "all_scores = []\n",
    "all_scores_no = []\n",
    "\n",
    "pval_l = []\n",
    "for i in tqdm(range(10)):\n",
    "    train_id = choice(range(data.data.shape[0]), int(data.data.shape[0]*0.7), replace=False)\n",
    "    val_id = [i for i in range(data.data.shape[0]) if i not in train_id]\n",
    "    train_data = data.subset(train_id)\n",
    "    val_data = data.subset(val_id)\n",
    "    model = DLIM(n_variables = train_data.nb_val, hid_dim = 32, nb_layer = 1)\n",
    "    dlim_regressor = DLIM_API(model=model, flag_spectral=True)\n",
    "    losses = dlim_regressor.fit(train_data, lr = 1e-3, nb_epoch=400, batch_size=32, emb_regularization=1e-2)\n",
    "\n",
    "\n",
    "    model_no = DLIM(n_variables = train_data.nb_val, hid_dim = 32, nb_layer = 1)\n",
    "    dlim_regressor_no = DLIM_API(model=model_no, flag_spectral=False)\n",
    "    losses = dlim_regressor_no.fit(train_data, lr = 1e-3, nb_epoch=400, batch_size=32, emb_regularization=1e-2)\n",
    "\n",
    "\n",
    "    fit_v, var, _  = dlim_regressor.predict(val_data.data[:,:-1], detach=True) \n",
    "    fit_no, var, _  = dlim_regressor_no.predict(val_data.data[:,:-1], detach=True) \n",
    "\n",
    "    score, pval = pearsonr(fit_v.flatten(), val_data.data[:, [-1]].flatten())\n",
    "    score_no, pval = pearsonr(fit_no.flatten(), val_data.data[:, [-1]].flatten())\n",
    "\n",
    "    all_scores += [score]\n",
    "    all_scores_no += [score_no]\n",
    "    pval_l += [pval]\n",
    "print(mean(all_scores), all(p < 10**-5 for p in pval_l))\n",
    "print(mean(all_scores_no), all(p < 10**-5 for p in pval_l))"
   ]
  },
  {
   "cell_type": "code",
   "execution_count": null,
   "metadata": {
    "notebookRunGroups": {
     "groupValue": "1"
    }
   },
   "outputs": [],
   "source": [
    "from scipy.stats import ttest \n"
   ]
  }
 ],
 "metadata": {
  "kernelspec": {
   "display_name": "drug",
   "language": "python",
   "name": "python3"
  },
  "language_info": {
   "codemirror_mode": {
    "name": "ipython",
    "version": 3
   },
   "file_extension": ".py",
   "mimetype": "text/x-python",
   "name": "python",
   "nbconvert_exporter": "python",
   "pygments_lexer": "ipython3",
   "version": "3.9.16"
  }
 },
 "nbformat": 4,
 "nbformat_minor": 2
}
