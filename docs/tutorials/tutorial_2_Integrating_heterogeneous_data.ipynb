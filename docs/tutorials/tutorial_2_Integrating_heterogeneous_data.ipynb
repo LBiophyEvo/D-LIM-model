{
 "cells": [
  {
   "cell_type": "markdown",
   "metadata": {},
   "source": [
    "# Tutorial 2: add prior information into the training in low data regime "
   ]
  },
  {
   "cell_type": "markdown",
   "metadata": {},
   "source": [
    "If you didn't install dlim: !pip install dlim\n",
    "\n",
    "dlim includes:\n",
    "- DLIM: model \n",
    "- utils: for data and training \n",
    "- plot_figure: for plotting figures\n",
    "- sim_data: simulate data points \n"
   ]
  },
  {
   "cell_type": "code",
   "execution_count": 1,
   "metadata": {},
   "outputs": [],
   "source": [
    "# Standard imports \n",
    "from scipy.stats import pearsonr\n",
    "from sklearn.metrics import r2_score\n",
    "from numpy import mean, logspace, std\n",
    "from numpy.random import choice, seed\n",
    "import matplotlib.pyplot as plt\n",
    "from multiprocessing import Pool\n",
    "\n",
    "# Load dlim model and data \n",
    "from dlim import DLIM\n",
    "from dlim.utils import Data_model, train"
   ]
  },
  {
   "cell_type": "markdown",
   "metadata": {},
   "source": [
    "### Load the data "
   ]
  },
  {
   "cell_type": "markdown",
   "metadata": {},
   "source": [
    "Data_model will load data and change them into tensor \n",
    "- infile: the file with N genes \n",
    "    - The first N columns will be the mutation on each gene\n",
    "    - The last column will be the fitness value \n",
    "    - You should not include the head and index for your own csv file \n",
    "- const_file: add the file with prior information\n",
    "    - In this file, there are three columns, the first column is to indicate the indices of the gene, i.e., 1, 2, ... (in Kemble et al dataset there are only two genes)\n",
    "    - the second column and third column are the mutations on this gene whose functions are similar. \n",
    "- nb_var: the number of genes, N."
   ]
  },
  {
   "cell_type": "code",
   "execution_count": 2,
   "metadata": {},
   "outputs": [],
   "source": [
    "data = Data_model(infile = \"./data/data_env_1.csv\", nb_var = 2, const_file=\"./data/data_const.dat\")\n",
    "data_no = Data_model(infile = \"./data/data_env_1.csv\", nb_var = 2)"
   ]
  },
  {
   "cell_type": "markdown",
   "metadata": {},
   "source": [
    "###  Keep 30% of data as validation, and examine the performance of D-LIM with different scales of training dataset size "
   ]
  },
  {
   "cell_type": "code",
   "execution_count": 3,
   "metadata": {},
   "outputs": [],
   "source": [
    "val_frac = logspace(-2, 0.1, num=7)\n",
    "val_id = choice(range(data.data.shape[0]), int(data.data.shape[0]*0.3))\n",
    "train_full_id = [i for i in range(data.data.shape[0]) if i not in val_id]\n",
    "train_full_data = data[train_full_id, :]\n",
    "val_data = data[val_id, :]"
   ]
  },
  {
   "cell_type": "markdown",
   "metadata": {},
   "source": [
    "### Define the function to execute the model with and without prior information "
   ]
  },
  {
   "cell_type": "code",
   "execution_count": 4,
   "metadata": {},
   "outputs": [],
   "source": [
    "def run_one(args):\n",
    "    i, frac = args\n",
    "    seed(42 + i)\n",
    "    train_id = choice(range(train_full_data.shape[0]), int(train_full_data.shape[0]*frac))\n",
    "    # define the model \n",
    "    model = DLIM(2, nb_state=37, hid=32, nb_layer=1)\n",
    "    model_no = DLIM(2, nb_state=37, hid=32, nb_layer=1)\n",
    "\n",
    "    # get certain percentage of training dataset \n",
    "    train_data = train_full_data[train_id, :]\n",
    "\n",
    "\n",
    "    # --- begin to train the model ---------------\n",
    "    _ = train(model, train_data, const=data.const, lr=1e-2, wei_const=10, wei_dec=1e-3, nb_epoch=300, bsize=64)\n",
    "    _ = train(model_no, train_data, lr=1e-2, wei_dec=1e-3, nb_epoch=300, bsize=64)\n",
    "\n",
    "    fit = model(val_data[:, :-1].int())[0].detach().squeeze(-1)\n",
    "    fit_no = model_no(val_data[:, :-1].int())[0].detach().squeeze(-1)\n",
    "    cor_w = pearsonr(fit, val_data[:, -1])[0]\n",
    "    cor_n = pearsonr(fit_no, val_data[:, -1])[0]\n",
    "    return cor_w, cor_n"
   ]
  },
  {
   "cell_type": "markdown",
   "metadata": {},
   "source": [
    "### Multiprocess to train models w"
   ]
  },
  {
   "cell_type": "code",
   "execution_count": 5,
   "metadata": {},
   "outputs": [],
   "source": [
    "result = {\n",
    "    'with reg': [],\n",
    "    'no reg': []\n",
    "}\n",
    "pool = Pool(20)\n",
    "for frac in val_frac:\n",
    "    res = pool.map(run_one, [(i, frac) for i in range(10)])\n",
    "    tmp_w, tmp_n = zip(*res)\n",
    "    result['with reg'] += [tmp_w]\n",
    "    result['no reg'] += [tmp_n]"
   ]
  },
  {
   "cell_type": "markdown",
   "metadata": {},
   "source": [
    "### Visualization of models' performance with various sizes of training dataset"
   ]
  },
  {
   "cell_type": "code",
   "execution_count": 7,
   "metadata": {},
   "outputs": [
    {
     "data": {
      "image/png": "[encoded data removed]",
      "text/plain": [
       "<Figure size 250x250 with 1 Axes>"
      ]
     },
     "metadata": {},
     "output_type": "display_data"
    }
   ],
   "source": [
    "fig, ax = plt.subplots(figsize=(2.5, 2.5))\n",
    "val_frac = val_frac * data.data.shape[0]\n",
    "# you can define your own color \n",
    "colors = ['#ffa500', '#607d8b']\n",
    "for id, model_name in enumerate(result.keys()):\n",
    "    y = [mean(el) for el in result[model_name]] \n",
    "    yerr = [std(el) for el in result[model_name]] \n",
    "    ax.plot(val_frac, y, c=colors[id], lw=2, label=model_name)\n",
    "    ax.scatter(val_frac, y, c=colors[id], s=15)\n",
    "    ax.errorbar(val_frac, y, yerr=yerr, c=colors[id])\n",
    "ax.set_xscale(\"log\")\n",
    "for el in [\"top\", \"right\"]:\n",
    "    ax.spines[el].set_visible(False)\n",
    "ax.set_ylabel(\"$\\\\rho$\")\n",
    "ax.set_xlabel(\"nb. data points\")\n",
    "ax.legend(frameon=False)\n",
    "plt.tight_layout()\n",
    "plt.show()"
   ]
  },
  {
   "cell_type": "code",
   "execution_count": null,
   "metadata": {},
   "outputs": [],
   "source": []
  }
 ],
 "metadata": {
  "kernelspec": {
   "display_name": "drug",
   "language": "python",
   "name": "python3"
  },
  "language_info": {
   "codemirror_mode": {
    "name": "ipython",
    "version": 3
   },
   "file_extension": ".py",
   "mimetype": "text/x-python",
   "name": "python",
   "nbconvert_exporter": "python",
   "pygments_lexer": "ipython3",
   "version": "3.11.5"
  }
 },
 "nbformat": 4,
 "nbformat_minor": 2
}
